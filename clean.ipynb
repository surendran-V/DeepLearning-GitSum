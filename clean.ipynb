{
 "cells": [
  {
   "cell_type": "code",
   "execution_count": 3,
   "metadata": {},
   "outputs": [
    {
     "name": "stdout",
     "output_type": "stream",
     "text": [
      "Processing complete. Output saved to output.csv\n"
     ]
    }
   ],
   "source": [
    "import csv\n",
    "from langdetect import detect\n",
    "import os\n",
    "\n",
    "def is_english(text):\n",
    "    try:\n",
    "        return detect(text) == 'en'\n",
    "    except:\n",
    "        return False\n",
    "\n",
    "def remove_non_english_and_empty_rows(input_file, output_file):\n",
    "    csv.field_size_limit(1000000)  # Increase the field size limit\n",
    "    with open(input_file, 'r', newline='', encoding='utf-8') as infile, \\\n",
    "         open(output_file, 'w', newline='', encoding='utf-8') as outfile:\n",
    "        \n",
    "        reader = csv.reader(infile)\n",
    "        writer = csv.writer(outfile)\n",
    "\n",
    "        for row in reader:\n",
    "            if row and any(row):  # Check if row is not empty\n",
    "                row_cleaned = []\n",
    "                for cell in row:\n",
    "                    if isinstance(cell, str) and len(cell) < 1000000:  # Check for oversized content\n",
    "                        row_cleaned.append(cell)\n",
    "                    else:\n",
    "                        row_cleaned.append('')  # Replace oversized content with empty string\n",
    "                if all(is_english(cell) for cell in row_cleaned):\n",
    "                    writer.writerow(row_cleaned)\n",
    "\n",
    "if __name__ == \"__main__\":\n",
    "    input_file = \"input.csv\"\n",
    "    output_file = \"output.csv\"\n",
    "\n",
    "    if os.path.exists(input_file):\n",
    "        remove_non_english_and_empty_rows(input_file, output_file)\n",
    "        print(\"Processing complete. Output saved to\", output_file)\n",
    "    else:\n",
    "        print(\"Input file not found.\")\n"
   ]
  }
 ],
 "metadata": {
  "kernelspec": {
   "display_name": "Python 3",
   "language": "python",
   "name": "python3"
  },
  "language_info": {
   "codemirror_mode": {
    "name": "ipython",
    "version": 3
   },
   "file_extension": ".py",
   "mimetype": "text/x-python",
   "name": "python",
   "nbconvert_exporter": "python",
   "pygments_lexer": "ipython3",
   "version": "3.10.12"
  }
 },
 "nbformat": 4,
 "nbformat_minor": 2
}
