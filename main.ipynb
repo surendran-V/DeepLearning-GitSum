{
 "cells": [
  {
   "cell_type": "code",
   "execution_count": 7,
   "metadata": {},
   "outputs": [],
   "source": [
    "from transformers import BartForConditionalGeneration, BartTokenizer\n",
    "import textwrap"
   ]
  },
  {
   "cell_type": "code",
   "execution_count": 8,
   "metadata": {},
   "outputs": [],
   "source": [
    "def text_summarizer_from_text(text):\n",
    "    introduction_index = text.find('# Introduction')\n",
    "    model_name = \"facebook/bart-large-cnn\"\n",
    "    model = BartForConditionalGeneration.from_pretrained(model_name)\n",
    "    tokenizer = BartTokenizer.from_pretrained(model_name)\n",
    "\n",
    "    if introduction_index != -1:\n",
    "        introduction_text = text[introduction_index:]\n",
    "        inputs = tokenizer.encode(\"summarize: \" + introduction_text, return_tensors=\"pt\", max_length=1024, truncation=True)\n",
    "        summary_ids = model.generate(inputs, max_length=300, min_length=100, length_penalty=2.0, num_beams=4, early_stopping=True)\n",
    "        summary = tokenizer.decode(summary_ids[0], skip_special_tokens=True)\n",
    "        formatted_summary = \"\\n\".join(textwrap.wrap(summary, width=80))\n",
    "\n",
    "        return formatted_summary\n",
    "    else:\n",
    "        inputs = tokenizer.encode(\"summarize: \" + text, return_tensors=\"pt\", max_length=1024, truncation=True)\n",
    "        summary_ids = model.generate(inputs, max_length=150, min_length=50, length_penalty=2.0, num_beams=4, early_stopping=True)\n",
    "\n",
    "        summary = tokenizer.decode(summary_ids[0], skip_special_tokens=True)\n",
    "        formatted_summary = \"\\n\".join(textwrap.wrap(summary, width=80))\n",
    "        return formatted_summary"
   ]
  },
  {
   "cell_type": "code",
   "execution_count": 9,
   "metadata": {},
   "outputs": [
    {
     "name": "stdout",
     "output_type": "stream",
     "text": [
      "Processing completed!\n"
     ]
    }
   ],
   "source": [
    "import csv\n",
    "import sys\n",
    "\n",
    "csv.field_size_limit(sys.maxsize)\n",
    "\n",
    "input_csv_path = \"150.csv\"\n",
    "output_csv_path = \"output_data_150.csv\"\n",
    "\n",
    "with open(input_csv_path, 'r') as input_file, open(output_csv_path, 'w', newline='') as output_file:\n",
    "    csv_reader = csv.reader(input_file)\n",
    "    csv_writer = csv.writer(output_file)\n",
    "\n",
    "    headers = next(csv_reader)\n",
    "    headers.append(\"Summary\")  \n",
    "    csv_writer.writerow(headers)\n",
    "\n",
    "    for i, row in enumerate(csv_reader, 1):\n",
    "        try:\n",
    "            text_data = row[2]  \n",
    "            summary = text_summarizer_from_text(text_data) \n",
    "            row.append(summary)  \n",
    "        except Exception as e:\n",
    "            print(f\"Error processing row {i}: {e}\")\n",
    "            summary = \"no summary available\"\n",
    "            row.append(summary) \n",
    "        finally:\n",
    "            csv_writer.writerow(row)  \n",
    "\n",
    "print(\"Processing completed!\")\n"
   ]
  }
 ],
 "metadata": {
  "kernelspec": {
   "display_name": "Python 3",
   "language": "python",
   "name": "python3"
  },
  "language_info": {
   "codemirror_mode": {
    "name": "ipython",
    "version": 3
   },
   "file_extension": ".py",
   "mimetype": "text/x-python",
   "name": "python",
   "nbconvert_exporter": "python",
   "pygments_lexer": "ipython3",
   "version": "3.10.12"
  }
 },
 "nbformat": 4,
 "nbformat_minor": 2
}
